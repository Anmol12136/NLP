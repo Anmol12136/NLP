{
 "cells": [
  {
   "cell_type": "code",
   "execution_count": 1,
   "metadata": {},
   "outputs": [
    {
     "name": "stdout",
     "output_type": "stream",
     "text": [
      "['i', 'me', 'my', 'myself', 'we', 'our', 'ours', 'ourselves', 'you', \"you're\", \"you've\", \"you'll\", \"you'd\", 'your', 'yours', 'yourself', 'yourselves', 'he', 'him', 'his', 'himself', 'she', \"she's\", 'her', 'hers', 'herself', 'it', \"it's\", 'its', 'itself', 'they', 'them', 'their', 'theirs', 'themselves', 'what', 'which', 'who', 'whom', 'this', 'that', \"that'll\", 'these', 'those', 'am', 'is', 'are', 'was', 'were', 'be', 'been', 'being', 'have', 'has', 'had', 'having', 'do', 'does', 'did', 'doing', 'a', 'an', 'the', 'and', 'but', 'if', 'or', 'because', 'as', 'until', 'while', 'of', 'at', 'by', 'for', 'with', 'about', 'against', 'between', 'into', 'through', 'during', 'before', 'after', 'above', 'below', 'to', 'from', 'up', 'down', 'in', 'out', 'on', 'off', 'over', 'under', 'again', 'further', 'then', 'once', 'here', 'there', 'when', 'where', 'why', 'how', 'all', 'any', 'both', 'each', 'few', 'more', 'most', 'other', 'some', 'such', 'no', 'nor', 'not', 'only', 'own', 'same', 'so', 'than', 'too', 'very', 's', 't', 'can', 'will', 'just', 'don', \"don't\", 'should', \"should've\", 'now', 'd', 'll', 'm', 'o', 're', 've', 'y', 'ain', 'aren', \"aren't\", 'couldn', \"couldn't\", 'didn', \"didn't\", 'doesn', \"doesn't\", 'hadn', \"hadn't\", 'hasn', \"hasn't\", 'haven', \"haven't\", 'isn', \"isn't\", 'ma', 'mightn', \"mightn't\", 'mustn', \"mustn't\", 'needn', \"needn't\", 'shan', \"shan't\", 'shouldn', \"shouldn't\", 'wasn', \"wasn't\", 'weren', \"weren't\", 'won', \"won't\", 'wouldn', \"wouldn't\"]\n"
     ]
    },
    {
     "name": "stderr",
     "output_type": "stream",
     "text": [
      "[nltk_data] Downloading package stopwords to\n",
      "[nltk_data]     C:\\Users\\arcan\\AppData\\Roaming\\nltk_data...\n",
      "[nltk_data]   Package stopwords is already up-to-date!\n"
     ]
    }
   ],
   "source": [
    "import nltk\n",
    "from nltk.corpus import stopwords\n",
    " \n",
    "nltk.download('stopwords')\n",
    "print(stopwords.words('english'))"
   ]
  },
  {
   "cell_type": "code",
   "execution_count": 2,
   "metadata": {},
   "outputs": [
    {
     "data": {
      "text/plain": [
       "['Kratos',\n",
       " ',',\n",
       " 'deep',\n",
       " 'voice',\n",
       " 'resonating',\n",
       " ',',\n",
       " 'spoke',\n",
       " 'son',\n",
       " 'Atreus',\n",
       " 'stern',\n",
       " 'yet',\n",
       " 'caring',\n",
       " 'tone',\n",
       " ',',\n",
       " '``',\n",
       " 'Boy',\n",
       " ',',\n",
       " 'must',\n",
       " 'heed',\n",
       " 'words',\n",
       " '.',\n",
       " 'gods',\n",
       " ',',\n",
       " 'mortals',\n",
       " '.',\n",
       " 'walk',\n",
       " 'path',\n",
       " ',',\n",
       " 'demands',\n",
       " 'discipline',\n",
       " '.',\n",
       " \"''\",\n",
       " 'Atreus',\n",
       " ',',\n",
       " 'eager',\n",
       " 'prove',\n",
       " ',',\n",
       " 'responded',\n",
       " 'youthful',\n",
       " 'defiance',\n",
       " ',',\n",
       " '``',\n",
       " 'Father',\n",
       " ',',\n",
       " 'handle',\n",
       " '!',\n",
       " \"'m\",\n",
       " 'child',\n",
       " 'anymore',\n",
       " '.',\n",
       " \"''\",\n",
       " 'Kratos',\n",
       " ',',\n",
       " 'recalling',\n",
       " 'tumultuous',\n",
       " 'journey',\n",
       " ',',\n",
       " 'retorted',\n",
       " ',',\n",
       " '``',\n",
       " 'ready',\n",
       " '.',\n",
       " 'gods',\n",
       " 'test',\n",
       " ',',\n",
       " 'consequences',\n",
       " 'arrogance',\n",
       " 'severe',\n",
       " '.',\n",
       " \"''\",\n",
       " 'ventured',\n",
       " 'treacherous',\n",
       " 'realms',\n",
       " ',',\n",
       " 'echoes',\n",
       " 'dialogues',\n",
       " 'revealed',\n",
       " 'complex',\n",
       " 'father-son',\n",
       " 'dynamic',\n",
       " ',',\n",
       " 'blending',\n",
       " 'vulnerability',\n",
       " 'strength',\n",
       " ',',\n",
       " 'shaping',\n",
       " 'epic',\n",
       " 'odyssey',\n",
       " 'world',\n",
       " 'gods',\n",
       " 'monsters',\n",
       " '.']"
      ]
     },
     "execution_count": 2,
     "metadata": {},
     "output_type": "execute_result"
    }
   ],
   "source": [
    "from nltk.corpus import stopwords\n",
    "from nltk.tokenize import word_tokenize\n",
    "\n",
    "text = \"\"\"Kratos, his deep voice resonating, spoke to his son Atreus with a stern yet caring tone, \"Boy, you must heed my words. We are not gods, nor are we mortals. We walk the path in between, and that demands discipline.\" Atreus, eager to prove himself, responded with youthful defiance, \"But Father, I can handle it! I'm not a child anymore.\" Kratos, recalling his own tumultuous journey, retorted, \"You are not ready. The gods will test you, and the consequences of arrogance are severe.\" As they ventured through the treacherous realms, the echoes of their dialogues revealed a complex father-son dynamic, blending vulnerability with strength, shaping their epic odyssey in the world of gods and monsters.\"\"\"\n",
    "stop_words = set(stopwords.words('english'))\n",
    "tokens = word_tokenize(text)\n",
    "filtered_sentence = [w for w in tokens if not w.lower() in stop_words]\n",
    "filtered_sentence"
   ]
  }
 ],
 "metadata": {
  "kernelspec": {
   "display_name": "venv",
   "language": "python",
   "name": "python3"
  },
  "language_info": {
   "codemirror_mode": {
    "name": "ipython",
    "version": 3
   },
   "file_extension": ".py",
   "mimetype": "text/x-python",
   "name": "python",
   "nbconvert_exporter": "python",
   "pygments_lexer": "ipython3",
   "version": "3.11.4"
  }
 },
 "nbformat": 4,
 "nbformat_minor": 2
}
